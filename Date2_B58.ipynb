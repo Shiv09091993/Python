{
 "cells": [
  {
   "cell_type": "code",
   "execution_count": 2,
   "id": "4f450555",
   "metadata": {},
   "outputs": [
    {
     "name": "stdout",
     "output_type": "stream",
     "text": [
      "shiva\n"
     ]
    }
   ],
   "source": [
    "name='shiva'\n",
    "\n",
    "print(name)"
   ]
  },
  {
   "cell_type": "code",
   "execution_count": 3,
   "id": "8c047424",
   "metadata": {},
   "outputs": [],
   "source": [
    "\n",
    "first_name=\"Shiva\"\n",
    "lastname2=\"subramani\""
   ]
  },
  {
   "cell_type": "code",
   "execution_count": 8,
   "id": "f57fc8d0",
   "metadata": {},
   "outputs": [
    {
     "name": "stdout",
     "output_type": "stream",
     "text": [
      "Shiva\n"
     ]
    }
   ],
   "source": [
    "print(first_name)\n"
   ]
  },
  {
   "cell_type": "code",
   "execution_count": 12,
   "id": "aff6e893",
   "metadata": {},
   "outputs": [
    {
     "name": "stdout",
     "output_type": "stream",
     "text": [
      "\"\"subramani\n"
     ]
    }
   ],
   "source": [
    "print(lastname2)"
   ]
  },
  {
   "cell_type": "code",
   "execution_count": 10,
   "id": "cfbd9f17",
   "metadata": {},
   "outputs": [
    {
     "data": {
      "text/plain": [
       "str"
      ]
     },
     "execution_count": 10,
     "metadata": {},
     "output_type": "execute_result"
    }
   ],
   "source": [
    "type(lastname2)"
   ]
  },
  {
   "cell_type": "code",
   "execution_count": null,
   "id": "e466f662",
   "metadata": {},
   "outputs": [],
   "source": [
    "# datatype\n",
    "#string->str--> immutable type\n",
    "#int->int,float\n",
    "#list->list\n",
    "#tuple->tuple\n",
    "#dictonary->dict"
   ]
  }
 ],
 "metadata": {
  "kernelspec": {
   "display_name": "Python 3 (ipykernel)",
   "language": "python",
   "name": "python3"
  },
  "language_info": {
   "codemirror_mode": {
    "name": "ipython",
    "version": 3
   },
   "file_extension": ".py",
   "mimetype": "text/x-python",
   "name": "python",
   "nbconvert_exporter": "python",
   "pygments_lexer": "ipython3",
   "version": "3.9.7"
  }
 },
 "nbformat": 4,
 "nbformat_minor": 5
}
