{
 "cells": [
  {
   "cell_type": "code",
   "execution_count": 1,
   "id": "0c1a79c9",
   "metadata": {},
   "outputs": [
    {
     "name": "stdout",
     "output_type": "stream",
     "text": [
      "['siva', 'asif', 'bala', 'john']\n"
     ]
    }
   ],
   "source": [
    "#list\n",
    "students=['siva','asif','bala','john']\n",
    "print(students)"
   ]
  },
  {
   "cell_type": "code",
   "execution_count": 2,
   "id": "62c63945",
   "metadata": {},
   "outputs": [
    {
     "data": {
      "text/plain": [
       "list"
      ]
     },
     "execution_count": 2,
     "metadata": {},
     "output_type": "execute_result"
    }
   ],
   "source": [
    "#find data type\n",
    "type(students)"
   ]
  },
  {
   "cell_type": "code",
   "execution_count": 29,
   "id": "59bfa934",
   "metadata": {},
   "outputs": [
    {
     "name": "stdout",
     "output_type": "stream",
     "text": [
      "asif\n",
      "Mari\n"
     ]
    }
   ],
   "source": [
    "#access elements from list using index\n",
    "print(students[3])\n",
    "print(students[1])"
   ]
  },
  {
   "cell_type": "code",
   "execution_count": 30,
   "id": "dcc1ea17",
   "metadata": {},
   "outputs": [],
   "source": [
    "#Adding elements in list\n",
    "students.append('Dinesh')"
   ]
  },
  {
   "cell_type": "code",
   "execution_count": 9,
   "id": "7c9c1bbb",
   "metadata": {},
   "outputs": [
    {
     "name": "stdout",
     "output_type": "stream",
     "text": [
      "['siva', 'asif', 'bala', 'john', 'Dinesh']\n"
     ]
    }
   ],
   "source": [
    "print(students)"
   ]
  },
  {
   "cell_type": "code",
   "execution_count": 17,
   "id": "2bb18135",
   "metadata": {},
   "outputs": [
    {
     "name": "stdout",
     "output_type": "stream",
     "text": [
      "['Mala', 'Mari', 'siva', 'Mala', 'asif', 'Mari', 'bala', 'Mari', 'Mari', 'john', 'Dinesh']\n"
     ]
    }
   ],
   "source": [
    "#Insert elements in list to a specific position\n",
    "students.insert(3,'Mala')\n",
    "print(students)"
   ]
  },
  {
   "cell_type": "code",
   "execution_count": 21,
   "id": "754a5821",
   "metadata": {},
   "outputs": [
    {
     "name": "stdout",
     "output_type": "stream",
     "text": [
      "['valli', 'Mari', 'siva', 'Mala', 'asif', 'kalai', 'bala', 'karthik', 'raj', 'john', 'Dinesh']\n"
     ]
    }
   ],
   "source": [
    "#Modify or replace element in list , by using index\n",
    "students[8]='raj'\n",
    "print(students)"
   ]
  },
  {
   "cell_type": "code",
   "execution_count": 22,
   "id": "47dab965",
   "metadata": {},
   "outputs": [
    {
     "name": "stdout",
     "output_type": "stream",
     "text": [
      "['valli', 'Mari', 'siva', 'asif', 'kalai', 'bala', 'karthik', 'raj', 'john', 'Dinesh']\n"
     ]
    }
   ],
   "source": [
    "#deleting element permanently from list\n",
    "del students[3]\n",
    "print(students)"
   ]
  },
  {
   "cell_type": "code",
   "execution_count": 27,
   "id": "bcda075b",
   "metadata": {},
   "outputs": [
    {
     "name": "stdout",
     "output_type": "stream",
     "text": [
      "['valli', 'Mari', 'siva', 'asif', 'kalai', 'bala']\n",
      "karthik\n"
     ]
    }
   ],
   "source": [
    "# Temporary deleting element from list and  retrive by calling the specific variable\n",
    "x= students.pop()\n",
    "print(students)\n",
    "print(x)"
   ]
  },
  {
   "cell_type": "code",
   "execution_count": null,
   "id": "8ac3fe84",
   "metadata": {},
   "outputs": [],
   "source": []
  },
  {
   "cell_type": "code",
   "execution_count": null,
   "id": "4d7586f2",
   "metadata": {},
   "outputs": [],
   "source": []
  }
 ],
 "metadata": {
  "kernelspec": {
   "display_name": "Python 3 (ipykernel)",
   "language": "python",
   "name": "python3"
  },
  "language_info": {
   "codemirror_mode": {
    "name": "ipython",
    "version": 3
   },
   "file_extension": ".py",
   "mimetype": "text/x-python",
   "name": "python",
   "nbconvert_exporter": "python",
   "pygments_lexer": "ipython3",
   "version": "3.9.7"
  }
 },
 "nbformat": 4,
 "nbformat_minor": 5
}
